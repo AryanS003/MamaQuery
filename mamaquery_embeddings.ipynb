{
  "nbformat": 4,
  "nbformat_minor": 0,
  "metadata": {
    "colab": {
      "provenance": []
    },
    "kernelspec": {
      "name": "python3",
      "display_name": "Python 3"
    },
    "language_info": {
      "name": "python"
    },
  },
  "cells": [
    {
      "cell_type": "code",
      "execution_count": 34,
      "metadata": {
        "id": "ByzJAb-3v5jA"
      },
      "outputs": [],
      "source": [
        "from google.colab import userdata\n",
        "API_KEY = userdata.get('GoogleAI_API_KEY')"
      ]
    },
    {
      "cell_type": "code",
      "source": [
        "import google.generativeai as genai\n",
        "from langchain_google_genai import ChatGoogleGenerativeAI"
      ],
      "metadata": {
        "id": "Di3LuXAeIKet"
      },
      "execution_count": 42,
      "outputs": []
    },
    {
      "cell_type": "code",
      "source": [
        "genai.configure(api_key=API_KEY)\n",
        "gemini = genai.GenerativeModel(model_name=\"models/gemini-2.0-flash-exp\")"
      ],
      "metadata": {
        "id": "Q4LNHyGeyhFY"
      },
      "execution_count": 54,
      "outputs": []
    },
    {
      "cell_type": "code",
      "source": [
        "try:\n",
        "    llm = ChatGoogleGenerativeAI(model=\"gemini-2.0-flash-exp\", google_api_key=API_KEY)\n",
        "except Exception as e:\n",
        "    print(e)"
      ],
      "metadata": {
        "id": "OAy4SqMlI1Jv"
      },
      "execution_count": 55,
      "outputs": []
    },
    {
      "cell_type": "code",
      "source": [
        "res = gemini.generate_content('who are you?')"
      ],
      "metadata": {
        "id": "98Iw3J6ZKE_x"
      },
      "execution_count": 60,
      "outputs": []
    },
    {
      "cell_type": "code",
      "source": [
        "print(res)"
      ],
      "metadata": {
        "colab": {
          "base_uri": "https://localhost:8080/"
        },
        "id": "HOkzHLQiKlL4",
        "outputId": "53e3a06a-da2f-48d1-ed1d-7eb207189a80"
      },
      "execution_count": 63,
      "outputs": [
        {
          "output_type": "stream",
          "name": "stdout",
          "text": [
            "response:\n",
            "GenerateContentResponse(\n",
            "    done=True,\n",
            "    iterator=None,\n",
            "    result=protos.GenerateContentResponse({\n",
            "      \"candidates\": [\n",
            "        {\n",
            "          \"content\": {\n",
            "            \"parts\": [\n",
            "              {\n",
            "                \"text\": \"I am a large language model, trained by Google.\\n\"\n",
            "              }\n",
            "            ],\n",
            "            \"role\": \"model\"\n",
            "          },\n",
            "          \"finish_reason\": \"STOP\",\n",
            "          \"avg_logprobs\": -2.56935212140282e-05\n",
            "        }\n",
            "      ],\n",
            "      \"usage_metadata\": {\n",
            "        \"prompt_token_count\": 4,\n",
            "        \"candidates_token_count\": 12,\n",
            "        \"total_token_count\": 16\n",
            "      },\n",
            "      \"model_version\": \"gemini-2.0-flash-exp\"\n",
            "    }),\n",
            ")\n"
          ]
        }
      ]
    },
    {
      "cell_type": "code",
      "source": [
        "from langchain_community.document_loaders.csv_loader import CSVLoader\n",
        "loader = CSVLoader(\"dataset.csv\")\n",
        "\n",
        "data = loader.load()"
      ],
      "metadata": {
        "id": "l1jXIuMQ8FxK"
      },
      "execution_count": 80,
      "outputs": []
    },
    {
      "cell_type": "code",
      "source": [
        "data[:5]"
      ],
      "metadata": {
        "colab": {
          "base_uri": "https://localhost:8080/"
        },
        "id": "m2sGiYfdTkz1",
        "outputId": "0d58f7e2-9849-4d35-b314-532adccc931e"
      },
      "execution_count": 109,
      "outputs": [
        {
          "output_type": "execute_result",
          "data": {
            "text/plain": [
              "[Document(metadata={'source': 'dataset.csv', 'row': 0}, page_content='Question: What is the best care for your skin?\\nAnswer: \"The best skin care involves following a concrete skincare routine, healthy dietary habits, and a proper sleep cycle. Our facial skin deals with pollution, climate fluctuations, the sun\\x92s UV rays, and poor-quality facial accessories. Thus, consistency in the skincare routine plays a key role in improving skin health. In addition, cutting off stress, smoking habits, and junk foods from life contribute hugely to overall skin health. You should always opt for gentle skin care products with natural and toxin-free ingredients.\"'),\n",
              " Document(metadata={'source': 'dataset.csv', 'row': 1}, page_content='Question: Are Mamaearth skin care products natural?\\nAnswer: \"Yes. Mamaearth skincare products do not include harmful chemicals to hurt any skin barrier. Besides, it is the first Asian brand to get the approval of MadeSafe, meaning its product range is free of any harmful chemicals that may damage the skin or cause allergies. So, if you are keen on using the best skin care products with mild and safe ingredients to pamper your skin health, Mamaearth products would be apt for you.\"'),\n",
              " Document(metadata={'source': 'dataset.csv', 'row': 2}, page_content='Question: Do Mamaearth face care products work on old acne scars?\\nAnswer: \"Yes. Mamaearth offers various face care products formulated specially to treat acne scars, blemishes, and hyperpigmentation. You may try skin care products featuring Tea Tree, Vitamin C, Aloe Vera, and Rice Water for the best results. It is necessary to be consistent with cleansing and exfoliation while dealing with acne scars. The sunblock is a crucial thing to stick with for effective results. In addition, you may also consider using Mamaearth\\x92s Retinol Face Serum and Bye Bye Blemishes Face Cream. These toxin-free skincare products are formulated with natural skin-brightening ingredients that help reduce blemishes and old acne scars.\"'),\n",
              " Document(metadata={'source': 'dataset.csv', 'row': 3}, page_content='Question: Which Mamaearth product is the best for the skin?\\nAnswer: \"Depending on the skin texture and concerns, you should opt for apt formulations from Mamaearth. It has a massive range of safe and gentle skincare products that are made to tackle a diverse range of concerns. So, ensure the products you buy suit your skin type and concerns. For example, if you are looking to brighten your skin complexion, you may wish to try the Vitamin C range and Ubtan-based products. Retinol and Rosehip-based products are best suited to defy premature aging concerns and blemishes.\"'),\n",
              " Document(metadata={'source': 'dataset.csv', 'row': 4}, page_content='Question: How do you use Mamaearth face care products?\\nAnswer: \"We recommend checking the product\\'s label before applying for any product. However, according to the general concept of skincare application, it is advised to take products in adequate amounts and apply them correctly: face cleanser, face toner, face serum, face moisturizer, and sunscreen.\"')]"
            ]
          },
          "metadata": {},
          "execution_count": 109
        }
      ]
    },
    {
      "cell_type": "code",
      "source": [
        "for doc in data[:5]:  # Check the first 5 entries\n",
        "    print(doc.page_content)"
      ],
      "metadata": {
        "colab": {
          "base_uri": "https://localhost:8080/"
        },
        "id": "Ay4o6ClebhmG",
        "outputId": "7a49f5d5-9edf-48d1-da5c-b89630bd7cec"
      },
      "execution_count": 84,
      "outputs": [
        {
          "output_type": "stream",
          "name": "stdout",
          "text": [
            "Question: What is the best care for your skin?\n",
            "Answer: \"The best skin care involves following a concrete skincare routine, healthy dietary habits, and a proper sleep cycle. Our facial skin deals with pollution, climate fluctuations, the suns UV rays, and poor-quality facial accessories. Thus, consistency in the skincare routine plays a key role in improving skin health. In addition, cutting off stress, smoking habits, and junk foods from life contribute hugely to overall skin health. You should always opt for gentle skin care products with natural and toxin-free ingredients.\"\n",
            "Question: Are Mamaearth skin care products natural?\n",
            "Answer: \"Yes. Mamaearth skincare products do not include harmful chemicals to hurt any skin barrier. Besides, it is the first Asian brand to get the approval of MadeSafe, meaning its product range is free of any harmful chemicals that may damage the skin or cause allergies. So, if you are keen on using the best skin care products with mild and safe ingredients to pamper your skin health, Mamaearth products would be apt for you.\"\n",
            "Question: Do Mamaearth face care products work on old acne scars?\n",
            "Answer: \"Yes. Mamaearth offers various face care products formulated specially to treat acne scars, blemishes, and hyperpigmentation. You may try skin care products featuring Tea Tree, Vitamin C, Aloe Vera, and Rice Water for the best results. It is necessary to be consistent with cleansing and exfoliation while dealing with acne scars. The sunblock is a crucial thing to stick with for effective results. In addition, you may also consider using Mamaearths Retinol Face Serum and Bye Bye Blemishes Face Cream. These toxin-free skincare products are formulated with natural skin-brightening ingredients that help reduce blemishes and old acne scars.\"\n",
            "Question: Which Mamaearth product is the best for the skin?\n",
            "Answer: \"Depending on the skin texture and concerns, you should opt for apt formulations from Mamaearth. It has a massive range of safe and gentle skincare products that are made to tackle a diverse range of concerns. So, ensure the products you buy suit your skin type and concerns. For example, if you are looking to brighten your skin complexion, you may wish to try the Vitamin C range and Ubtan-based products. Retinol and Rosehip-based products are best suited to defy premature aging concerns and blemishes.\"\n",
            "Question: How do you use Mamaearth face care products?\n",
            "Answer: \"We recommend checking the product's label before applying for any product. However, according to the general concept of skincare application, it is advised to take products in adequate amounts and apply them correctly: face cleanser, face toner, face serum, face moisturizer, and sunscreen.\"\n"
          ]
        }
      ]
    },
    {
      "cell_type": "code",
      "source": [
        "from sentence_transformers import SentenceTransformer\n",
        "\n",
        "# Load the embedding model\n",
        "embedder = SentenceTransformer('all-MiniLM-L6-v2')\n",
        "\n",
        "texts = [doc.page_content for doc in data]\n",
        "\n",
        "# Generate embeddings\n",
        "embeddings = embedder.encode(texts, convert_to_tensor=False)  # FAISS works with numpy arrays\n",
        "print(f\"Embeddings shape: {embeddings.shape}\")"
      ],
      "metadata": {
        "colab": {
          "base_uri": "https://localhost:8080/",
          "height": 500,
          "referenced_widgets": [
            "e23067008b204df6a699d8d6f9d0e8d6",
            "69b11a5dd4b64251a993481f46bb3baf",
            "dacd4c3976234103816ba556ac4d9c19",
            "4a98b645287544b4957c21d75c5a3e86",
            "f6f52da0ea274002afbb7a2c19ddf6ba",
            "6cfbf39be8494845a1d328bbf32aea49",
            "dd894feb23404053b76990ea65933034",
            "b34909addca44b3ab511b9d617dd5282",
            "ed9ca4ddfcd846a4b8f4b54215bb5eb9",
            "d57a3c40529744e192cfd433bb6a99cf",
            "f2b29107fc68493880dec58092b787c3",
            "d2805713d28d4dd79dd0648db3e23cd8",
            "f9504e40a32149f9900c88248423ee86",
            "26d10d921a5c4d7984ce2e9cbe39c23b",
            "6cbc0cde08744510b95aa50aaf779666",
            "fa2790edaafa4e7fab7ddcf68daa6034",
            "273cc6dd70464965adba7e3c40205daa",
            "a755acb67cd749ea90780a8dd6869173",
            "3242d6ddfcc14631adb03ee9b7480f40",
            "5a721c602b9d4812bb1e249380d62bfe",
            "b740716b681f49b68290e7883a7bd980",
            "85bbeb8da50b403bbc05a58f4cbd1a19",
            "12ebba516a214282ab44d8a3f36d765c",
            "46358a9386e647a9828040e1414b7d2a",
            "a9f70673239746cc94e08eaf4eeb0640",
            "a66251d6a709412d87cb9a0ac2562741",
            "878d4215c8a24df4a06c99932e1597e6",
            "5ea29841f7004cc4a26477822c47cf35",
            "73bbe4c2fabf4c12b61139aa9390e8ed",
            "b80f1195865945abbd9f7cc651c2ef6a",
            "77660e7f9a7d4112857dbaafa1c26216",
            "432a279a1e0f47ac9df354683fafdd18",
            "3bb82fa5bb9447c69051bc71cdae5211",
            "9f4f1b8a994e440292e73603bcaa030c",
            "176ba09184124400b79a89127bf61ee8",
            "1158d56a45934988b576283f7791d862",
            "907f490b26f142fd87f4750e1cf67601",
            "cfc115cdc3a54c56aa46755e26e103a8",
            "b7281426d75a43d5b392aa142dd2fef1",
            "d7f630f85e1b4710b2d8de36c536ad06",
            "bc6c2fdb2d1a4cc5b2669f513bd3d717",
            "f593d171a90941d0b8c8100b123ac886",
            "3f1b4926255745f9ad5d238039563aba",
            "d7705d9cb258482db7c2d03f936194ca",
            "fc0b1277b90b42ed81d0326c43b17ef2",
            "c775c91f095c4fc3b7ab37ea61ed0cff",
            "5956f440fef84cf6ac33b46d88a472a4",
            "e49ab7e8c8454d49ac2bc0dfc1164ff5",
            "d739d4862f204588b0c5816e3311c79f",
            "082a2900a47c493caa6fe3a40bbb1541",
            "4b182fc00f9144a19a451d5c9c64e6e9",
            "86cb1df535674a488b9551f097042b14",
            "039d8dfbc2604c2db4abcf50e4964a81",
            "c41c938b60fb4f1984bb07e26a2f8029",
            "4e75aed8d0464e35b7acee78564859f6",
            "ab10b699607f43ce8da2cb1ca10197d9",
            "2739028a909f4e62ae7217d4fe652690",
            "f2eef83fd21f4576bd34b31422553821",
            "55dceb3f3b2541c9b0e9a1086bc2db96",
            "8149dffd7dbe41f0bb314d17c216b0bf",
            "2cf25e6c9d2b4d2f989ac9d62f4e342a",
            "3d2234a3e43547d88f7cd31f1b8aafa8",
            "5c8776a5215b4ecbabaae183a8ae3c37",
            "426be90c7cf14f9ca6da4213852e2f72",
            "9ae92e79c7294fef8bd2e9e787508ddb",
            "d1290ac0a1da487f8cdf01cda4876e7f",
            "e95165a7fa0f4eeabb3ded32916d2d37",
            "e906bc9242944184b243d940c21fac33",
            "9ba83a9d2b1a402b8487bff8b7f5d6ac",
            "048eb4650c754d46ae9369f63f6a4671",
            "7802f5ca0c8c4fceaf0e65e30b8f70ea",
            "ac51a63b266c4eb9838d34686633c0fe",
            "e56d08875f1849848ccbe596975f8268",
            "c8be8434bad44d9cb97ff978482f0bd1",
            "7055f7eb13c74c98ae6527c005106659",
            "79e65d71727d4913bdd00f95a8e33896",
            "c9dcd912444a4ce48714c2c0b0a618ae",
            "3c77511a898b4c4c91eb0d6a126e1a7c",
            "02c37bf80e4549a98836f4e9a53d11b9",
            "1a0f41e2eeb74e54949909d3203fb84d",
            "30743c17040648e8aa506248a596556e",
            "8c7831eb8b8241799d6665d7f3999d6c",
            "77ce1b2c25b84abcb1eb6adea13dcc68",
            "11389e1eb09c45f9b7771e1d3a7faba0",
            "666f4aed1138412f943da4b6c0a8497d",
            "cba120416b204f3c99e6529edeb590d3",
            "a42553bcf3d04bcdafee9f94b2166c33",
            "3eab2401d6f44060a118116e32c63c58",
            "41b80d90aedd409584dbda2abda8f54a",
            "228d7eb89f6f4f96be732abf72f2ab94",
            "74746b8fd7544ae1b772c8fdbcdd7744",
            "e021cf5e5c05446c98d078f559a13a08",
            "df2c8ef6d3bf4f85ae5b6ec312e6a61d",
            "c33c174162064a2ab4eca95268ba7ea8",
            "251a368547ad4feaba4972a98b13f4d9",
            "29672a3f940e49de8128de9ca603dbe1",
            "3caef57656b445bfbc4cd39f94718557",
            "80a8812ca6934562875b5630dd16c004",
            "44f722c754cf42929d6f1bd08ccbd51b",
            "e55b74b3299f4cbd8db8f661c416fe05",
            "e650acffa2714cca9e7e45bef7009a2f",
            "7c83824170a94380854c27e34051999f",
            "6d01ac6c97334befa5abcb5f864061d5",
            "57afa8f543d54972a0fd20107520f287",
            "513b3b316b2945ab802a262688fcff81",
            "bf35ae12f03046848b7b3ef029d058ea",
            "cf590418c0054b968c70faef60106dbe",
            "66e307939e644c798cb37f764c60147d",
            "70cc22a1202f4b1ca32a1068f5b0dded",
            "1df3878212494857a67b007992c17e19",
            "de8875d66de54648a4345e919073621e",
            "2dc747e31ffc4e28af35816809e59712",
            "6223b0227f55422e83a71ecfff76908d",
            "065ec1506db546fd87fa995ba0a4e123",
            "31e1fee45baa461db69ddcfae0da9168",
            "b5a78c00787f489eb2886080dec993d7",
            "c945ad7da8e5446783d0267478adb608",
            "68e2d1cef6114efba19ebc0b4555f4c2",
            "b80baccbc7894d468a93e5963a1d2f57",
            "1933fd4943814ef6870c2ce4768677a6",
            "dcdf3c2c616a4609a24edde390277af5"
          ]
        },
        "id": "FCokgnXAb5Ey",
        "outputId": "fc6930a6-387f-4a87-da39-26136572321f"
      },
      "execution_count": 85,
      "outputs": [
        {
          "output_type": "stream",
          "name": "stderr",
          "text": [
            "/usr/local/lib/python3.11/dist-packages/huggingface_hub/utils/_auth.py:104: UserWarning: \n",
            "Error while fetching `HF_TOKEN` secret value from your vault: 'Requesting secret HF_TOKEN timed out. Secrets can only be fetched when running from the Colab UI.'.\n",
            "You are not authenticated with the Hugging Face Hub in this notebook.\n",
            "If the error persists, please let us know by opening an issue on GitHub (https://github.com/huggingface/huggingface_hub/issues/new).\n",
            "  warnings.warn(\n"
          ]
        },
        {
          "output_type": "display_data",
          "data": {
            "text/plain": [
              "modules.json:   0%|          | 0.00/349 [00:00<?, ?B/s]"
            ],
            "application/vnd.jupyter.widget-view+json": {
              "version_major": 2,
              "version_minor": 0,
              "model_id": "e23067008b204df6a699d8d6f9d0e8d6"
            }
          },
          "metadata": {}
        },
        {
          "output_type": "display_data",
          "data": {
            "text/plain": [
              "config_sentence_transformers.json:   0%|          | 0.00/116 [00:00<?, ?B/s]"
            ],
            "application/vnd.jupyter.widget-view+json": {
              "version_major": 2,
              "version_minor": 0,
              "model_id": "d2805713d28d4dd79dd0648db3e23cd8"
            }
          },
          "metadata": {}
        },
        {
          "output_type": "display_data",
          "data": {
            "text/plain": [
              "README.md:   0%|          | 0.00/10.5k [00:00<?, ?B/s]"
            ],
            "application/vnd.jupyter.widget-view+json": {
              "version_major": 2,
              "version_minor": 0,
              "model_id": "12ebba516a214282ab44d8a3f36d765c"
            }
          },
          "metadata": {}
        },
        {
          "output_type": "display_data",
          "data": {
            "text/plain": [
              "sentence_bert_config.json:   0%|          | 0.00/53.0 [00:00<?, ?B/s]"
            ],
            "application/vnd.jupyter.widget-view+json": {
              "version_major": 2,
              "version_minor": 0,
              "model_id": "9f4f1b8a994e440292e73603bcaa030c"
            }
          },
          "metadata": {}
        },
        {
          "output_type": "display_data",
          "data": {
            "text/plain": [
              "config.json:   0%|          | 0.00/612 [00:00<?, ?B/s]"
            ],
            "application/vnd.jupyter.widget-view+json": {
              "version_major": 2,
              "version_minor": 0,
              "model_id": "fc0b1277b90b42ed81d0326c43b17ef2"
            }
          },
          "metadata": {}
        },
        {
          "output_type": "display_data",
          "data": {
            "text/plain": [
              "model.safetensors:   0%|          | 0.00/90.9M [00:00<?, ?B/s]"
            ],
            "application/vnd.jupyter.widget-view+json": {
              "version_major": 2,
              "version_minor": 0,
              "model_id": "ab10b699607f43ce8da2cb1ca10197d9"
            }
          },
          "metadata": {}
        },
        {
          "output_type": "display_data",
          "data": {
            "text/plain": [
              "tokenizer_config.json:   0%|          | 0.00/350 [00:00<?, ?B/s]"
            ],
            "application/vnd.jupyter.widget-view+json": {
              "version_major": 2,
              "version_minor": 0,
              "model_id": "e95165a7fa0f4eeabb3ded32916d2d37"
            }
          },
          "metadata": {}
        },
        {
          "output_type": "display_data",
          "data": {
            "text/plain": [
              "vocab.txt:   0%|          | 0.00/232k [00:00<?, ?B/s]"
            ],
            "application/vnd.jupyter.widget-view+json": {
              "version_major": 2,
              "version_minor": 0,
              "model_id": "3c77511a898b4c4c91eb0d6a126e1a7c"
            }
          },
          "metadata": {}
        },
        {
          "output_type": "display_data",
          "data": {
            "text/plain": [
              "tokenizer.json:   0%|          | 0.00/466k [00:00<?, ?B/s]"
            ],
            "application/vnd.jupyter.widget-view+json": {
              "version_major": 2,
              "version_minor": 0,
              "model_id": "41b80d90aedd409584dbda2abda8f54a"
            }
          },
          "metadata": {}
        },
        {
          "output_type": "display_data",
          "data": {
            "text/plain": [
              "special_tokens_map.json:   0%|          | 0.00/112 [00:00<?, ?B/s]"
            ],
            "application/vnd.jupyter.widget-view+json": {
              "version_major": 2,
              "version_minor": 0,
              "model_id": "e55b74b3299f4cbd8db8f661c416fe05"
            }
          },
          "metadata": {}
        },
        {
          "output_type": "display_data",
          "data": {
            "text/plain": [
              "config.json:   0%|          | 0.00/190 [00:00<?, ?B/s]"
            ],
            "application/vnd.jupyter.widget-view+json": {
              "version_major": 2,
              "version_minor": 0,
              "model_id": "de8875d66de54648a4345e919073621e"
            }
          },
          "metadata": {}
        },
        {
          "output_type": "stream",
          "name": "stdout",
          "text": [
            "Embeddings shape: (242, 384)\n"
          ]
        }
      ]
    },
    {
      "cell_type": "code",
      "source": [
        "embeddings[:4]"
      ],
      "metadata": {
        "colab": {
          "base_uri": "https://localhost:8080/"
        },
        "id": "stDByip1cOsU",
        "outputId": "e0b5cec4-3d3d-4af9-ab57-d56523068b79"
      },
      "execution_count": 89,
      "outputs": [
        {
          "output_type": "execute_result",
          "data": {
            "text/plain": [
              "array([[-0.01068226,  0.0564363 ,  0.07823565, ..., -0.01969187,\n",
              "         0.0338727 ,  0.02122223],\n",
              "       [-0.00844563, -0.0208981 ,  0.01685841, ..., -0.10756474,\n",
              "         0.19383544,  0.05402026],\n",
              "       [-0.06794827,  0.01920482,  0.03596641, ..., -0.13462287,\n",
              "         0.15482579,  0.05665047],\n",
              "       [-0.00657491,  0.00110152,  0.01732581, ..., -0.09001124,\n",
              "         0.12774841,  0.03602342]], dtype=float32)"
            ]
          },
          "metadata": {},
          "execution_count": 89
        }
      ]
    },
    {
      "source": [
        "from langchain.vectorstores import FAISS\n",
        "from langchain.embeddings import SentenceTransformerEmbeddings\n",
        "\n",
        "# Create a FAISS vector store from your documents and embeddings\n",
        "# Use SentenceTransformerEmbeddings to wrap your SentenceTransformer model\n",
        "embeddings = SentenceTransformerEmbeddings(model_name=\"all-MiniLM-L6-v2\")\n",
        "vector_store = FAISS.from_documents(\n",
        "    documents=data,\n",
        "    embedding=embeddings\n",
        ")\n",
        "\n",
        "# Save the index (optional, for reuse)\n",
        "vector_store.save_local(\"faiss_index\")"
      ],
      "cell_type": "code",
      "metadata": {
        "id": "-Zl3Brm6c1fQ"
      },
      "execution_count": 94,
      "outputs": []
    },
    {
      "cell_type": "code",
      "source": [
        "print(llm.invoke(\"Hello, are you working?\"))"
      ],
      "metadata": {
        "colab": {
          "base_uri": "https://localhost:8080/"
        },
        "id": "XtY2f8sTdz-O",
        "outputId": "4d108589-cfd6-42bc-ba8e-cad07adaee93"
      },
      "execution_count": 96,
      "outputs": [
        {
          "output_type": "stream",
          "name": "stdout",
          "text": [
            "content='Yes, I am currently active and ready to assist you. How can I help you today?' additional_kwargs={} response_metadata={'prompt_feedback': {'block_reason': 0, 'safety_ratings': []}, 'finish_reason': 'STOP', 'model_name': 'gemini-2.0-flash-exp', 'safety_ratings': []} id='run-7239cb52-dc33-47cd-a348-bf1d380ec7ab-0' usage_metadata={'input_tokens': 6, 'output_tokens': 20, 'total_tokens': 26, 'input_token_details': {'cache_read': 0}}\n"
          ]
        }
      ]
    },
    {
      "cell_type": "code",
      "source": [
        "from langchain.chains import RetrievalQA\n",
        "\n",
        "# Set up the retriever\n",
        "retriever = vector_store.as_retriever(search_kwargs={\"k\": 3})  # Retrieve top 3 matches\n",
        "\n",
        "# Create a RetrievalQA chain\n",
        "qa_chain = RetrievalQA.from_chain_type(\n",
        "    llm=llm,\n",
        "    chain_type=\"stuff\",  # Combines retrieved docs into the prompt\n",
        "    retriever=retriever,\n",
        "    return_source_documents=True  # Optional: see what was retrieved\n",
        ")\n",
        "\n",
        "# Test it\n",
        "query = \"what best products can men use and suggest me products to handle acne scars?\"\n",
        "result = qa_chain({\"query\": query})\n",
        "print(result[\"result\"])\n",
        "print(result[\"source_documents\"])"
      ],
      "metadata": {
        "colab": {
          "base_uri": "https://localhost:8080/"
        },
        "id": "w4FZrFxzeCsr",
        "outputId": "2d594297-4510-4c5d-f99e-b7400548bdf6"
      },
      "execution_count": 110,
      "outputs": [
        {
          "output_type": "stream",
          "name": "stdout",
          "text": [
            "For the best skin care for men, it is suggested to go for a gentle face cleanser with deep-cleansing formula and a moisturizer with an oil-free yet hydrating formula. Applying SPF is non-negotiable, so find a lightweight sunscreen with SPF 50 for better protection. Regular exfoliation is necessary to keep pores clean and healthy. So, add a nourishing face scrub and facial mask to your weekly routine. Gradually, you may introduce toners and treatment products such as serums and ointments to your routine if you have any particular concerns.\n",
            "\n",
            "Mamaearth offers various face care products formulated specially to treat acne scars, blemishes, and hyperpigmentation. You may try skin care products featuring Tea Tree, Vitamin C, Aloe Vera, and Rice Water for the best results. It is necessary to be consistent with cleansing and exfoliation while dealing with acne scars. The sunblock is a crucial thing to stick with for effective results. In addition, you may also consider using Mamaearths Retinol Face Serum and Bye Bye Blemishes Face Cream. These toxin-free skincare products are formulated with natural skin-brightening ingredients that help reduce blemishes and old acne scars.\n",
            "[Document(id='203dbcbe-fc5f-4c8d-816b-521ece1167fe', metadata={'source': 'dataset.csv', 'row': 7}, page_content='Question: Which is the best skin product for men?\\nAnswer: \"Like women\\'s skin, men\\'s skin also requires attention, care, and pampering. You may commence your skincare routine with the basics before trying additional products. So, while choosing the best skin product for men, try to keep it minimal if you are new to skincare. Start with cleansing, moisturizing, and SPF, and always avoid nasties such as sulfates, paraben, SLS, artificial fragrance, etc., in your products. Besides, once a week, exfoliation and facial masks would make your skin healthy and naturally glowing.\"'), Document(id='a9bd5a24-dadd-47fe-ad7c-95bbdfd30e93', metadata={'source': 'dataset.csv', 'row': 8}, page_content='Question: What should men have for skin care?\\nAnswer: \"For the best skin care for men, it is suggested to go for a gentle face cleanser with deep-cleansing formula and a moisturizer with an oil-free yet hydrating formula. Applying SPF is non-negotiable, so find a lightweight sunscreen with SPF 50 for better protection. Regular exfoliation is necessary to keep pores clean and healthy. So, add a nourishing face scrub and facial mask to your weekly routine. Gradually, you may introduce toners and treatment products such as serums and ointments to your routine if you have any particular concerns.\"'), Document(id='3dbbcbaf-9c8d-4461-a3ae-7741350d03c2', metadata={'source': 'dataset.csv', 'row': 2}, page_content='Question: Do Mamaearth face care products work on old acne scars?\\nAnswer: \"Yes. Mamaearth offers various face care products formulated specially to treat acne scars, blemishes, and hyperpigmentation. You may try skin care products featuring Tea Tree, Vitamin C, Aloe Vera, and Rice Water for the best results. It is necessary to be consistent with cleansing and exfoliation while dealing with acne scars. The sunblock is a crucial thing to stick with for effective results. In addition, you may also consider using Mamaearth\\x92s Retinol Face Serum and Bye Bye Blemishes Face Cream. These toxin-free skincare products are formulated with natural skin-brightening ingredients that help reduce blemishes and old acne scars.\"')]\n"
          ]
        }
      ]
    }
  ]
}
